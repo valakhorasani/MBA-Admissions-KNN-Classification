{
 "cells": [
  {
   "cell_type": "markdown",
   "id": "9fa602ef",
   "metadata": {
    "papermill": {
     "duration": 0.006658,
     "end_time": "2024-09-24T16:03:04.995411",
     "exception": false,
     "start_time": "2024-09-24T16:03:04.988753",
     "status": "completed"
    },
    "tags": []
   },
   "source": [
    "# MBA Admissions Data Analysis and Preprocessing\n",
    "### by Seyedvala Khorasani\n",
    "#### September 2024\n"
   ]
  },
  {
   "cell_type": "markdown",
   "id": "ffaf4903",
   "metadata": {
    "papermill": {
     "duration": 0.004465,
     "end_time": "2024-09-24T16:03:05.005032",
     "exception": false,
     "start_time": "2024-09-24T16:03:05.000567",
     "status": "completed"
    },
    "tags": []
   },
   "source": [
    "## import necessary packages"
   ]
  },
  {
   "cell_type": "code",
   "execution_count": 1,
   "id": "4d5fd16c",
   "metadata": {
    "execution": {
     "iopub.execute_input": "2024-09-24T16:03:05.015809Z",
     "iopub.status.busy": "2024-09-24T16:03:05.015392Z",
     "iopub.status.idle": "2024-09-24T16:03:07.364182Z",
     "shell.execute_reply": "2024-09-24T16:03:07.362892Z"
    },
    "papermill": {
     "duration": 2.357277,
     "end_time": "2024-09-24T16:03:07.366849",
     "exception": false,
     "start_time": "2024-09-24T16:03:05.009572",
     "status": "completed"
    },
    "tags": []
   },
   "outputs": [],
   "source": [
    "import numpy as np\n",
    "import matplotlib.pyplot as plt\n",
    "import pandas as pd\n",
    "import numpy as np\n",
    "from sklearn import preprocessing\n",
    "%matplotlib inline"
   ]
  },
  {
   "cell_type": "markdown",
   "id": "24e4c593",
   "metadata": {
    "papermill": {
     "duration": 0.005142,
     "end_time": "2024-09-24T16:03:07.376683",
     "exception": false,
     "start_time": "2024-09-24T16:03:07.371541",
     "status": "completed"
    },
    "tags": []
   },
   "source": [
    "## Read in data "
   ]
  },
  {
   "cell_type": "code",
   "execution_count": 2,
   "id": "a8741de7",
   "metadata": {
    "execution": {
     "iopub.execute_input": "2024-09-24T16:03:07.388390Z",
     "iopub.status.busy": "2024-09-24T16:03:07.387726Z",
     "iopub.status.idle": "2024-09-24T16:03:07.460017Z",
     "shell.execute_reply": "2024-09-24T16:03:07.458735Z"
    },
    "papermill": {
     "duration": 0.081741,
     "end_time": "2024-09-24T16:03:07.463068",
     "exception": false,
     "start_time": "2024-09-24T16:03:07.381327",
     "status": "completed"
    },
    "tags": []
   },
   "outputs": [
    {
     "name": "stdout",
     "output_type": "stream",
     "text": [
      "   application_id  gender  international   gpa       major      race   gmat  \\\n",
      "0               1  Female          False  3.30    Business     Asian  620.0   \n",
      "1               2    Male          False  3.28  Humanities     Black  680.0   \n",
      "2               3  Female           True  3.30    Business       NaN  710.0   \n",
      "3               4    Male          False  3.47        STEM     Black  690.0   \n",
      "4               5    Male          False  3.35        STEM  Hispanic  590.0   \n",
      "\n",
      "   work_exp          work_industry admission  \n",
      "0       3.0     Financial Services     Admit  \n",
      "1       5.0  Investment Management       NaN  \n",
      "2       5.0             Technology     Admit  \n",
      "3       6.0             Technology       NaN  \n",
      "4       5.0             Consulting       NaN  \n",
      "       application_id          gpa         gmat     work_exp\n",
      "count     6194.000000  6194.000000  6194.000000  6194.000000\n",
      "mean      3097.500000     3.250714   651.092993     5.016952\n",
      "std       1788.198115     0.151541    49.294883     1.032432\n",
      "min          1.000000     2.650000   570.000000     1.000000\n",
      "25%       1549.250000     3.150000   610.000000     4.000000\n",
      "50%       3097.500000     3.250000   650.000000     5.000000\n",
      "75%       4645.750000     3.350000   680.000000     6.000000\n",
      "max       6194.000000     3.770000   780.000000     9.000000\n"
     ]
    }
   ],
   "source": [
    "df=pd.read_csv('/kaggle/input/mba-admission-dataset/MBA.csv')\n",
    "print(df.head())\n",
    "print(df.describe())\n"
   ]
  },
  {
   "cell_type": "markdown",
   "id": "9de8804e",
   "metadata": {
    "papermill": {
     "duration": 0.004493,
     "end_time": "2024-09-24T16:03:07.472441",
     "exception": false,
     "start_time": "2024-09-24T16:03:07.467948",
     "status": "completed"
    },
    "tags": []
   },
   "source": [
    "## Converting Categorical Data to Numerical Format"
   ]
  },
  {
   "cell_type": "code",
   "execution_count": 3,
   "id": "e63be6bf",
   "metadata": {
    "execution": {
     "iopub.execute_input": "2024-09-24T16:03:07.484113Z",
     "iopub.status.busy": "2024-09-24T16:03:07.483644Z",
     "iopub.status.idle": "2024-09-24T16:03:07.505519Z",
     "shell.execute_reply": "2024-09-24T16:03:07.504252Z"
    },
    "papermill": {
     "duration": 0.031291,
     "end_time": "2024-09-24T16:03:07.508608",
     "exception": false,
     "start_time": "2024-09-24T16:03:07.477317",
     "status": "completed"
    },
    "tags": []
   },
   "outputs": [
    {
     "name": "stderr",
     "output_type": "stream",
     "text": [
      "/tmp/ipykernel_17/17098316.py:1: FutureWarning: Downcasting behavior in `replace` is deprecated and will be removed in a future version. To retain the old behavior, explicitly call `result.infer_objects(copy=False)`. To opt-in to the future behavior, set `pd.set_option('future.no_silent_downcasting', True)`\n",
      "  df['admission'] = df['admission'].replace({'Admit': 1, 'Waitlist': 2})\n"
     ]
    },
    {
     "data": {
      "text/plain": [
       "admission\n",
       "0.0    5194\n",
       "1.0     900\n",
       "2.0     100\n",
       "Name: count, dtype: int64"
      ]
     },
     "execution_count": 3,
     "metadata": {},
     "output_type": "execute_result"
    }
   ],
   "source": [
    "df['admission'] = df['admission'].replace({'Admit': 1, 'Waitlist': 2})\n",
    "df['admission'] = df['admission'].fillna(0)\n",
    "df['admission'].value_counts()\n",
    "\n"
   ]
  },
  {
   "cell_type": "code",
   "execution_count": 4,
   "id": "8e5be590",
   "metadata": {
    "execution": {
     "iopub.execute_input": "2024-09-24T16:03:07.520258Z",
     "iopub.status.busy": "2024-09-24T16:03:07.519812Z",
     "iopub.status.idle": "2024-09-24T16:03:08.052720Z",
     "shell.execute_reply": "2024-09-24T16:03:08.051508Z"
    },
    "papermill": {
     "duration": 0.541471,
     "end_time": "2024-09-24T16:03:08.055149",
     "exception": false,
     "start_time": "2024-09-24T16:03:07.513678",
     "status": "completed"
    },
    "tags": []
   },
   "outputs": [
    {
     "data": {
      "text/plain": [
       "array([[<Axes: title={'center': 'admission'}>]], dtype=object)"
      ]
     },
     "execution_count": 4,
     "metadata": {},
     "output_type": "execute_result"
    },
    {
     "data": {
      "image/png": "[encoded data removed]",
      "text/plain": [
       "<Figure size 640x480 with 1 Axes>"
      ]
     },
     "metadata": {},
     "output_type": "display_data"
    }
   ],
   "source": [
    "df.hist(column='admission', bins=50)"
   ]
  },
  {
   "cell_type": "code",
   "execution_count": 5,
   "id": "22186e70",
   "metadata": {
    "execution": {
     "iopub.execute_input": "2024-09-24T16:03:08.069606Z",
     "iopub.status.busy": "2024-09-24T16:03:08.068412Z",
     "iopub.status.idle": "2024-09-24T16:03:08.114867Z",
     "shell.execute_reply": "2024-09-24T16:03:08.113659Z"
    },
    "papermill": {
     "duration": 0.056882,
     "end_time": "2024-09-24T16:03:08.117510",
     "exception": false,
     "start_time": "2024-09-24T16:03:08.060628",
     "status": "completed"
    },
    "tags": []
   },
   "outputs": [
    {
     "data": {
      "text/html": [
       "<div>\n",
       "<style scoped>\n",
       "    .dataframe tbody tr th:only-of-type {\n",
       "        vertical-align: middle;\n",
       "    }\n",
       "\n",
       "    .dataframe tbody tr th {\n",
       "        vertical-align: top;\n",
       "    }\n",
       "\n",
       "    .dataframe thead th {\n",
       "        text-align: right;\n",
       "    }\n",
       "</style>\n",
       "<table border=\"1\" class=\"dataframe\">\n",
       "  <thead>\n",
       "    <tr style=\"text-align: right;\">\n",
       "      <th></th>\n",
       "      <th>application_id</th>\n",
       "      <th>international</th>\n",
       "      <th>gpa</th>\n",
       "      <th>gmat</th>\n",
       "      <th>work_exp</th>\n",
       "      <th>admission</th>\n",
       "      <th>gender_Female</th>\n",
       "      <th>gender_Male</th>\n",
       "      <th>major_Business</th>\n",
       "      <th>major_Humanities</th>\n",
       "      <th>...</th>\n",
       "      <th>work_industry_Health Care</th>\n",
       "      <th>work_industry_Investment Banking</th>\n",
       "      <th>work_industry_Investment Management</th>\n",
       "      <th>work_industry_Media/Entertainment</th>\n",
       "      <th>work_industry_Nonprofit/Gov</th>\n",
       "      <th>work_industry_Other</th>\n",
       "      <th>work_industry_PE/VC</th>\n",
       "      <th>work_industry_Real Estate</th>\n",
       "      <th>work_industry_Retail</th>\n",
       "      <th>work_industry_Technology</th>\n",
       "    </tr>\n",
       "  </thead>\n",
       "  <tbody>\n",
       "    <tr>\n",
       "      <th>0</th>\n",
       "      <td>1</td>\n",
       "      <td>False</td>\n",
       "      <td>3.30</td>\n",
       "      <td>620.0</td>\n",
       "      <td>3.0</td>\n",
       "      <td>1.0</td>\n",
       "      <td>True</td>\n",
       "      <td>False</td>\n",
       "      <td>True</td>\n",
       "      <td>False</td>\n",
       "      <td>...</td>\n",
       "      <td>False</td>\n",
       "      <td>False</td>\n",
       "      <td>False</td>\n",
       "      <td>False</td>\n",
       "      <td>False</td>\n",
       "      <td>False</td>\n",
       "      <td>False</td>\n",
       "      <td>False</td>\n",
       "      <td>False</td>\n",
       "      <td>False</td>\n",
       "    </tr>\n",
       "    <tr>\n",
       "      <th>1</th>\n",
       "      <td>2</td>\n",
       "      <td>False</td>\n",
       "      <td>3.28</td>\n",
       "      <td>680.0</td>\n",
       "      <td>5.0</td>\n",
       "      <td>0.0</td>\n",
       "      <td>False</td>\n",
       "      <td>True</td>\n",
       "      <td>False</td>\n",
       "      <td>True</td>\n",
       "      <td>...</td>\n",
       "      <td>False</td>\n",
       "      <td>False</td>\n",
       "      <td>True</td>\n",
       "      <td>False</td>\n",
       "      <td>False</td>\n",
       "      <td>False</td>\n",
       "      <td>False</td>\n",
       "      <td>False</td>\n",
       "      <td>False</td>\n",
       "      <td>False</td>\n",
       "    </tr>\n",
       "    <tr>\n",
       "      <th>2</th>\n",
       "      <td>3</td>\n",
       "      <td>True</td>\n",
       "      <td>3.30</td>\n",
       "      <td>710.0</td>\n",
       "      <td>5.0</td>\n",
       "      <td>1.0</td>\n",
       "      <td>True</td>\n",
       "      <td>False</td>\n",
       "      <td>True</td>\n",
       "      <td>False</td>\n",
       "      <td>...</td>\n",
       "      <td>False</td>\n",
       "      <td>False</td>\n",
       "      <td>False</td>\n",
       "      <td>False</td>\n",
       "      <td>False</td>\n",
       "      <td>False</td>\n",
       "      <td>False</td>\n",
       "      <td>False</td>\n",
       "      <td>False</td>\n",
       "      <td>True</td>\n",
       "    </tr>\n",
       "    <tr>\n",
       "      <th>3</th>\n",
       "      <td>4</td>\n",
       "      <td>False</td>\n",
       "      <td>3.47</td>\n",
       "      <td>690.0</td>\n",
       "      <td>6.0</td>\n",
       "      <td>0.0</td>\n",
       "      <td>False</td>\n",
       "      <td>True</td>\n",
       "      <td>False</td>\n",
       "      <td>False</td>\n",
       "      <td>...</td>\n",
       "      <td>False</td>\n",
       "      <td>False</td>\n",
       "      <td>False</td>\n",
       "      <td>False</td>\n",
       "      <td>False</td>\n",
       "      <td>False</td>\n",
       "      <td>False</td>\n",
       "      <td>False</td>\n",
       "      <td>False</td>\n",
       "      <td>True</td>\n",
       "    </tr>\n",
       "    <tr>\n",
       "      <th>4</th>\n",
       "      <td>5</td>\n",
       "      <td>False</td>\n",
       "      <td>3.35</td>\n",
       "      <td>590.0</td>\n",
       "      <td>5.0</td>\n",
       "      <td>0.0</td>\n",
       "      <td>False</td>\n",
       "      <td>True</td>\n",
       "      <td>False</td>\n",
       "      <td>False</td>\n",
       "      <td>...</td>\n",
       "      <td>False</td>\n",
       "      <td>False</td>\n",
       "      <td>False</td>\n",
       "      <td>False</td>\n",
       "      <td>False</td>\n",
       "      <td>False</td>\n",
       "      <td>False</td>\n",
       "      <td>False</td>\n",
       "      <td>False</td>\n",
       "      <td>False</td>\n",
       "    </tr>\n",
       "    <tr>\n",
       "      <th>...</th>\n",
       "      <td>...</td>\n",
       "      <td>...</td>\n",
       "      <td>...</td>\n",
       "      <td>...</td>\n",
       "      <td>...</td>\n",
       "      <td>...</td>\n",
       "      <td>...</td>\n",
       "      <td>...</td>\n",
       "      <td>...</td>\n",
       "      <td>...</td>\n",
       "      <td>...</td>\n",
       "      <td>...</td>\n",
       "      <td>...</td>\n",
       "      <td>...</td>\n",
       "      <td>...</td>\n",
       "      <td>...</td>\n",
       "      <td>...</td>\n",
       "      <td>...</td>\n",
       "      <td>...</td>\n",
       "      <td>...</td>\n",
       "      <td>...</td>\n",
       "    </tr>\n",
       "    <tr>\n",
       "      <th>6189</th>\n",
       "      <td>6190</td>\n",
       "      <td>False</td>\n",
       "      <td>3.49</td>\n",
       "      <td>640.0</td>\n",
       "      <td>5.0</td>\n",
       "      <td>0.0</td>\n",
       "      <td>False</td>\n",
       "      <td>True</td>\n",
       "      <td>True</td>\n",
       "      <td>False</td>\n",
       "      <td>...</td>\n",
       "      <td>False</td>\n",
       "      <td>False</td>\n",
       "      <td>False</td>\n",
       "      <td>False</td>\n",
       "      <td>False</td>\n",
       "      <td>True</td>\n",
       "      <td>False</td>\n",
       "      <td>False</td>\n",
       "      <td>False</td>\n",
       "      <td>False</td>\n",
       "    </tr>\n",
       "    <tr>\n",
       "      <th>6190</th>\n",
       "      <td>6191</td>\n",
       "      <td>False</td>\n",
       "      <td>3.18</td>\n",
       "      <td>670.0</td>\n",
       "      <td>4.0</td>\n",
       "      <td>0.0</td>\n",
       "      <td>False</td>\n",
       "      <td>True</td>\n",
       "      <td>False</td>\n",
       "      <td>False</td>\n",
       "      <td>...</td>\n",
       "      <td>False</td>\n",
       "      <td>False</td>\n",
       "      <td>False</td>\n",
       "      <td>False</td>\n",
       "      <td>False</td>\n",
       "      <td>False</td>\n",
       "      <td>False</td>\n",
       "      <td>False</td>\n",
       "      <td>False</td>\n",
       "      <td>False</td>\n",
       "    </tr>\n",
       "    <tr>\n",
       "      <th>6191</th>\n",
       "      <td>6192</td>\n",
       "      <td>True</td>\n",
       "      <td>3.22</td>\n",
       "      <td>680.0</td>\n",
       "      <td>5.0</td>\n",
       "      <td>1.0</td>\n",
       "      <td>True</td>\n",
       "      <td>False</td>\n",
       "      <td>True</td>\n",
       "      <td>False</td>\n",
       "      <td>...</td>\n",
       "      <td>True</td>\n",
       "      <td>False</td>\n",
       "      <td>False</td>\n",
       "      <td>False</td>\n",
       "      <td>False</td>\n",
       "      <td>False</td>\n",
       "      <td>False</td>\n",
       "      <td>False</td>\n",
       "      <td>False</td>\n",
       "      <td>False</td>\n",
       "    </tr>\n",
       "    <tr>\n",
       "      <th>6192</th>\n",
       "      <td>6193</td>\n",
       "      <td>True</td>\n",
       "      <td>3.36</td>\n",
       "      <td>590.0</td>\n",
       "      <td>5.0</td>\n",
       "      <td>0.0</td>\n",
       "      <td>False</td>\n",
       "      <td>True</td>\n",
       "      <td>True</td>\n",
       "      <td>False</td>\n",
       "      <td>...</td>\n",
       "      <td>False</td>\n",
       "      <td>False</td>\n",
       "      <td>False</td>\n",
       "      <td>False</td>\n",
       "      <td>False</td>\n",
       "      <td>True</td>\n",
       "      <td>False</td>\n",
       "      <td>False</td>\n",
       "      <td>False</td>\n",
       "      <td>False</td>\n",
       "    </tr>\n",
       "    <tr>\n",
       "      <th>6193</th>\n",
       "      <td>6194</td>\n",
       "      <td>False</td>\n",
       "      <td>3.23</td>\n",
       "      <td>650.0</td>\n",
       "      <td>4.0</td>\n",
       "      <td>0.0</td>\n",
       "      <td>False</td>\n",
       "      <td>True</td>\n",
       "      <td>False</td>\n",
       "      <td>False</td>\n",
       "      <td>...</td>\n",
       "      <td>False</td>\n",
       "      <td>False</td>\n",
       "      <td>False</td>\n",
       "      <td>False</td>\n",
       "      <td>False</td>\n",
       "      <td>False</td>\n",
       "      <td>False</td>\n",
       "      <td>False</td>\n",
       "      <td>False</td>\n",
       "      <td>False</td>\n",
       "    </tr>\n",
       "  </tbody>\n",
       "</table>\n",
       "<p>6194 rows × 30 columns</p>\n",
       "</div>"
      ],
      "text/plain": [
       "      application_id  international   gpa   gmat  work_exp  admission  \\\n",
       "0                  1          False  3.30  620.0       3.0        1.0   \n",
       "1                  2          False  3.28  680.0       5.0        0.0   \n",
       "2                  3           True  3.30  710.0       5.0        1.0   \n",
       "3                  4          False  3.47  690.0       6.0        0.0   \n",
       "4                  5          False  3.35  590.0       5.0        0.0   \n",
       "...              ...            ...   ...    ...       ...        ...   \n",
       "6189            6190          False  3.49  640.0       5.0        0.0   \n",
       "6190            6191          False  3.18  670.0       4.0        0.0   \n",
       "6191            6192           True  3.22  680.0       5.0        1.0   \n",
       "6192            6193           True  3.36  590.0       5.0        0.0   \n",
       "6193            6194          False  3.23  650.0       4.0        0.0   \n",
       "\n",
       "      gender_Female  gender_Male  major_Business  major_Humanities  ...  \\\n",
       "0              True        False            True             False  ...   \n",
       "1             False         True           False              True  ...   \n",
       "2              True        False            True             False  ...   \n",
       "3             False         True           False             False  ...   \n",
       "4             False         True           False             False  ...   \n",
       "...             ...          ...             ...               ...  ...   \n",
       "6189          False         True            True             False  ...   \n",
       "6190          False         True           False             False  ...   \n",
       "6191           True        False            True             False  ...   \n",
       "6192          False         True            True             False  ...   \n",
       "6193          False         True           False             False  ...   \n",
       "\n",
       "      work_industry_Health Care  work_industry_Investment Banking  \\\n",
       "0                         False                             False   \n",
       "1                         False                             False   \n",
       "2                         False                             False   \n",
       "3                         False                             False   \n",
       "4                         False                             False   \n",
       "...                         ...                               ...   \n",
       "6189                      False                             False   \n",
       "6190                      False                             False   \n",
       "6191                       True                             False   \n",
       "6192                      False                             False   \n",
       "6193                      False                             False   \n",
       "\n",
       "      work_industry_Investment Management  work_industry_Media/Entertainment  \\\n",
       "0                                   False                              False   \n",
       "1                                    True                              False   \n",
       "2                                   False                              False   \n",
       "3                                   False                              False   \n",
       "4                                   False                              False   \n",
       "...                                   ...                                ...   \n",
       "6189                                False                              False   \n",
       "6190                                False                              False   \n",
       "6191                                False                              False   \n",
       "6192                                False                              False   \n",
       "6193                                False                              False   \n",
       "\n",
       "      work_industry_Nonprofit/Gov  work_industry_Other  work_industry_PE/VC  \\\n",
       "0                           False                False                False   \n",
       "1                           False                False                False   \n",
       "2                           False                False                False   \n",
       "3                           False                False                False   \n",
       "4                           False                False                False   \n",
       "...                           ...                  ...                  ...   \n",
       "6189                        False                 True                False   \n",
       "6190                        False                False                False   \n",
       "6191                        False                False                False   \n",
       "6192                        False                 True                False   \n",
       "6193                        False                False                False   \n",
       "\n",
       "      work_industry_Real Estate  work_industry_Retail  \\\n",
       "0                         False                 False   \n",
       "1                         False                 False   \n",
       "2                         False                 False   \n",
       "3                         False                 False   \n",
       "4                         False                 False   \n",
       "...                         ...                   ...   \n",
       "6189                      False                 False   \n",
       "6190                      False                 False   \n",
       "6191                      False                 False   \n",
       "6192                      False                 False   \n",
       "6193                      False                 False   \n",
       "\n",
       "      work_industry_Technology  \n",
       "0                        False  \n",
       "1                        False  \n",
       "2                         True  \n",
       "3                         True  \n",
       "4                        False  \n",
       "...                        ...  \n",
       "6189                     False  \n",
       "6190                     False  \n",
       "6191                     False  \n",
       "6192                     False  \n",
       "6193                     False  \n",
       "\n",
       "[6194 rows x 30 columns]"
      ]
     },
     "execution_count": 5,
     "metadata": {},
     "output_type": "execute_result"
    }
   ],
   "source": [
    "categorical_columns = ['gender', 'major', 'race', 'work_industry']\n",
    "\n",
    "# Apply one-hot encoding to the categorical columns\n",
    "df_encoded = pd.get_dummies(df, columns=categorical_columns)\n",
    "df_encoded"
   ]
  },
  {
   "cell_type": "code",
   "execution_count": 6,
   "id": "7d76548f",
   "metadata": {
    "execution": {
     "iopub.execute_input": "2024-09-24T16:03:08.131797Z",
     "iopub.status.busy": "2024-09-24T16:03:08.131374Z",
     "iopub.status.idle": "2024-09-24T16:03:08.146125Z",
     "shell.execute_reply": "2024-09-24T16:03:08.144989Z"
    },
    "papermill": {
     "duration": 0.024976,
     "end_time": "2024-09-24T16:03:08.148642",
     "exception": false,
     "start_time": "2024-09-24T16:03:08.123666",
     "status": "completed"
    },
    "tags": []
   },
   "outputs": [
    {
     "data": {
      "text/plain": [
       "array([[3.3, 620.0, 3.0, ..., False, False, False],\n",
       "       [3.28, 680.0, 5.0, ..., False, False, False],\n",
       "       [3.3, 710.0, 5.0, ..., False, False, True],\n",
       "       ...,\n",
       "       [3.22, 680.0, 5.0, ..., False, False, False],\n",
       "       [3.36, 590.0, 5.0, ..., False, False, False],\n",
       "       [3.23, 650.0, 4.0, ..., False, False, False]], dtype=object)"
      ]
     },
     "execution_count": 6,
     "metadata": {},
     "output_type": "execute_result"
    }
   ],
   "source": [
    "X = df_encoded[['gpa', 'gmat', 'work_exp', 'admission', \n",
    "                'gender_Female', 'gender_Male', 'major_Business', \n",
    "                'major_Humanities', 'work_industry_Health Care', \n",
    "                'work_industry_Investment Banking', \n",
    "                'work_industry_Investment Management',\n",
    "                'work_industry_Media/Entertainment', \n",
    "                'work_industry_Nonprofit/Gov', 'work_industry_Other', \n",
    "                'work_industry_PE/VC', 'work_industry_Real Estate', \n",
    "                'work_industry_Retail', 'work_industry_Technology']].values\n",
    "X\n"
   ]
  },
  {
   "cell_type": "code",
   "execution_count": 7,
   "id": "65810d4e",
   "metadata": {
    "execution": {
     "iopub.execute_input": "2024-09-24T16:03:08.163486Z",
     "iopub.status.busy": "2024-09-24T16:03:08.163037Z",
     "iopub.status.idle": "2024-09-24T16:03:08.171726Z",
     "shell.execute_reply": "2024-09-24T16:03:08.170577Z"
    },
    "papermill": {
     "duration": 0.018612,
     "end_time": "2024-09-24T16:03:08.174047",
     "exception": false,
     "start_time": "2024-09-24T16:03:08.155435",
     "status": "completed"
    },
    "tags": []
   },
   "outputs": [
    {
     "data": {
      "text/plain": [
       "array([[1.],\n",
       "       [0.],\n",
       "       [1.],\n",
       "       ...,\n",
       "       [1.],\n",
       "       [0.],\n",
       "       [0.]])"
      ]
     },
     "execution_count": 7,
     "metadata": {},
     "output_type": "execute_result"
    }
   ],
   "source": [
    "y=df[['admission']].values\n",
    "y\n"
   ]
  },
  {
   "cell_type": "markdown",
   "id": "54699061",
   "metadata": {
    "papermill": {
     "duration": 0.007108,
     "end_time": "2024-09-24T16:03:08.187818",
     "exception": false,
     "start_time": "2024-09-24T16:03:08.180710",
     "status": "completed"
    },
    "tags": []
   },
   "source": [
    "## Normalizing the data"
   ]
  },
  {
   "cell_type": "code",
   "execution_count": 8,
   "id": "9155afe4",
   "metadata": {
    "execution": {
     "iopub.execute_input": "2024-09-24T16:03:08.203533Z",
     "iopub.status.busy": "2024-09-24T16:03:08.203066Z",
     "iopub.status.idle": "2024-09-24T16:03:08.224082Z",
     "shell.execute_reply": "2024-09-24T16:03:08.222722Z"
    },
    "papermill": {
     "duration": 0.031294,
     "end_time": "2024-09-24T16:03:08.226736",
     "exception": false,
     "start_time": "2024-09-24T16:03:08.195442",
     "status": "completed"
    },
    "tags": []
   },
   "outputs": [
    {
     "data": {
      "text/plain": [
       "array([[ 0.32526081, -0.6308059 , -1.95375019,  1.94742642,  1.32350517,\n",
       "        -1.32350517,  1.53946983, -0.81743063, -0.23873958, -0.32142362,\n",
       "        -0.16594624, -0.09806606, -0.34270312, -0.27004757, -0.41418941,\n",
       "        -0.13508359, -0.07318657, -0.36153096],\n",
       "       [ 0.19327277,  0.58645722, -0.0164207 , -0.42052789, -0.7555694 ,\n",
       "         0.7555694 , -0.64957428,  1.2233454 , -0.23873958, -0.32142362,\n",
       "         6.02604788, -0.09806606, -0.34270312, -0.27004757, -0.41418941,\n",
       "        -0.13508359, -0.07318657, -0.36153096],\n",
       "       [ 0.32526081,  1.19508879, -0.0164207 ,  1.94742642,  1.32350517,\n",
       "        -1.32350517,  1.53946983, -0.81743063, -0.23873958, -0.32142362,\n",
       "        -0.16594624, -0.09806606, -0.34270312, -0.27004757, -0.41418941,\n",
       "        -0.13508359, -0.07318657,  2.76601482],\n",
       "       [ 1.44715914,  0.78933441,  0.95224405, -0.42052789, -0.7555694 ,\n",
       "         0.7555694 , -0.64957428, -0.81743063, -0.23873958, -0.32142362,\n",
       "        -0.16594624, -0.09806606, -0.34270312, -0.27004757, -0.41418941,\n",
       "        -0.13508359, -0.07318657,  2.76601482],\n",
       "       [ 0.65523091, -1.23943747, -0.0164207 , -0.42052789, -0.7555694 ,\n",
       "         0.7555694 , -0.64957428, -0.81743063, -0.23873958, -0.32142362,\n",
       "        -0.16594624, -0.09806606, -0.34270312, -0.27004757, -0.41418941,\n",
       "        -0.13508359, -0.07318657, -0.36153096]])"
      ]
     },
     "execution_count": 8,
     "metadata": {},
     "output_type": "execute_result"
    }
   ],
   "source": [
    "X = preprocessing.StandardScaler().fit(X).transform(X.astype(float))\n",
    "X[0:5]"
   ]
  },
  {
   "cell_type": "markdown",
   "id": "ecfa471c",
   "metadata": {
    "papermill": {
     "duration": 0.006134,
     "end_time": "2024-09-24T16:03:08.239515",
     "exception": false,
     "start_time": "2024-09-24T16:03:08.233381",
     "status": "completed"
    },
    "tags": []
   },
   "source": [
    "## test train split and Fitting the model"
   ]
  },
  {
   "cell_type": "code",
   "execution_count": 9,
   "id": "e2a72953",
   "metadata": {
    "execution": {
     "iopub.execute_input": "2024-09-24T16:03:08.254614Z",
     "iopub.status.busy": "2024-09-24T16:03:08.254169Z",
     "iopub.status.idle": "2024-09-24T16:03:08.379557Z",
     "shell.execute_reply": "2024-09-24T16:03:08.378233Z"
    },
    "papermill": {
     "duration": 0.136005,
     "end_time": "2024-09-24T16:03:08.382060",
     "exception": false,
     "start_time": "2024-09-24T16:03:08.246055",
     "status": "completed"
    },
    "tags": []
   },
   "outputs": [
    {
     "name": "stdout",
     "output_type": "stream",
     "text": [
      "Train set: (4955, 18) (4955, 1)\n",
      "Test set: (1239, 18) (1239, 1)\n"
     ]
    }
   ],
   "source": [
    "from sklearn.model_selection import train_test_split\n",
    "X_train, X_test, y_train, y_test = train_test_split( X, y, test_size=0.2, random_state=4)\n",
    "print ('Train set:', X_train.shape,  y_train.shape)\n",
    "print ('Test set:', X_test.shape,  y_test.shape)"
   ]
  },
  {
   "cell_type": "code",
   "execution_count": 10,
   "id": "f87678d9",
   "metadata": {
    "execution": {
     "iopub.execute_input": "2024-09-24T16:03:08.398259Z",
     "iopub.status.busy": "2024-09-24T16:03:08.397226Z",
     "iopub.status.idle": "2024-09-24T16:03:08.722345Z",
     "shell.execute_reply": "2024-09-24T16:03:08.720845Z"
    },
    "papermill": {
     "duration": 0.337274,
     "end_time": "2024-09-24T16:03:08.726055",
     "exception": false,
     "start_time": "2024-09-24T16:03:08.388781",
     "status": "completed"
    },
    "scrolled": true,
    "tags": []
   },
   "outputs": [
    {
     "name": "stderr",
     "output_type": "stream",
     "text": [
      "/opt/conda/lib/python3.10/site-packages/sklearn/neighbors/_classification.py:215: DataConversionWarning: A column-vector y was passed when a 1d array was expected. Please change the shape of y to (n_samples,), for example using ravel().\n",
      "  return self._fit(X, y)\n"
     ]
    }
   ],
   "source": [
    "from sklearn.neighbors import KNeighborsClassifier\n",
    "k = 4\n",
    "#Train Model and Predict  \n",
    "neigh = KNeighborsClassifier(n_neighbors = k).fit(X_train,y_train)\n",
    "y_train = y_train.squeeze()\n",
    "neigh.fit(X_train, y_train)\n",
    "yhat = neigh.predict(X_test)\n",
    "\n",
    "\n",
    "\n"
   ]
  },
  {
   "cell_type": "markdown",
   "id": "ac77d082",
   "metadata": {
    "papermill": {
     "duration": 0.006572,
     "end_time": "2024-09-24T16:03:08.739683",
     "exception": false,
     "start_time": "2024-09-24T16:03:08.733111",
     "status": "completed"
    },
    "tags": []
   },
   "source": [
    "## evaluating the model"
   ]
  },
  {
   "cell_type": "code",
   "execution_count": 11,
   "id": "42801ae9",
   "metadata": {
    "execution": {
     "iopub.execute_input": "2024-09-24T16:03:08.755108Z",
     "iopub.status.busy": "2024-09-24T16:03:08.754692Z",
     "iopub.status.idle": "2024-09-24T16:03:09.066759Z",
     "shell.execute_reply": "2024-09-24T16:03:09.065462Z"
    },
    "papermill": {
     "duration": 0.32264,
     "end_time": "2024-09-24T16:03:09.069193",
     "exception": false,
     "start_time": "2024-09-24T16:03:08.746553",
     "status": "completed"
    },
    "tags": []
   },
   "outputs": [
    {
     "name": "stdout",
     "output_type": "stream",
     "text": [
      "Train set Accuracy:  0.9935418768920282\n",
      "Test set Accuracy:  0.9887005649717514\n"
     ]
    }
   ],
   "source": [
    "from sklearn import metrics\n",
    "print(\"Train set Accuracy: \", metrics.accuracy_score(y_train, neigh.predict(X_train)))\n",
    "print(\"Test set Accuracy: \", metrics.accuracy_score(y_test, yhat))"
   ]
  },
  {
   "cell_type": "markdown",
   "id": "9c3e8688",
   "metadata": {
    "papermill": {
     "duration": 0.007435,
     "end_time": "2024-09-24T16:03:09.083698",
     "exception": false,
     "start_time": "2024-09-24T16:03:09.076263",
     "status": "completed"
    },
    "tags": []
   },
   "source": [
    "## Visualizing True labels vs Predicted labels"
   ]
  },
  {
   "cell_type": "code",
   "execution_count": 12,
   "id": "84a95192",
   "metadata": {
    "execution": {
     "iopub.execute_input": "2024-09-24T16:03:09.100343Z",
     "iopub.status.busy": "2024-09-24T16:03:09.099835Z",
     "iopub.status.idle": "2024-09-24T16:03:09.488524Z",
     "shell.execute_reply": "2024-09-24T16:03:09.486927Z"
    },
    "papermill": {
     "duration": 0.400895,
     "end_time": "2024-09-24T16:03:09.491687",
     "exception": false,
     "start_time": "2024-09-24T16:03:09.090792",
     "status": "completed"
    },
    "tags": []
   },
   "outputs": [
    {
     "data": {
      "image/png": "[encoded data removed]",
      "text/plain": [
       "<Figure size 1000x600 with 1 Axes>"
      ]
     },
     "metadata": {},
     "output_type": "display_data"
    }
   ],
   "source": [
    "import matplotlib.pyplot as plt\n",
    "import numpy as np\n",
    "\n",
    "# Converting the arrays to 1D for plotting (in case they're not already)\n",
    "y_test_flat = np.array(y_test).flatten()\n",
    "yhat_flat = np.array(yhat).flatten()\n",
    "\n",
    "# Plotting the first 20 values for comparison with lower alpha for the green line\n",
    "plt.figure(figsize=(10, 6))\n",
    "plt.plot(y_test_flat[0:200], 'go-', label='True Labels (y_test)', markersize=8, alpha=0.8)  # Reduced alpha for visibility\n",
    "plt.plot(yhat_flat[0:200], 'bo-', label='Predicted Labels (yhat)', markersize=6,alpha=0.3)\n",
    "\n",
    "plt.title('True Labels vs Predicted Labels')\n",
    "plt.xlabel('Sample Index')\n",
    "plt.ylabel('Labels')\n",
    "plt.legend()\n",
    "plt.grid(True)\n",
    "plt.show()\n"
   ]
  },
  {
   "cell_type": "code",
   "execution_count": 13,
   "id": "c672dd63",
   "metadata": {
    "execution": {
     "iopub.execute_input": "2024-09-24T16:03:09.510615Z",
     "iopub.status.busy": "2024-09-24T16:03:09.510164Z",
     "iopub.status.idle": "2024-09-24T16:03:09.517418Z",
     "shell.execute_reply": "2024-09-24T16:03:09.516301Z"
    },
    "papermill": {
     "duration": 0.020337,
     "end_time": "2024-09-24T16:03:09.520446",
     "exception": false,
     "start_time": "2024-09-24T16:03:09.500109",
     "status": "completed"
    },
    "tags": []
   },
   "outputs": [
    {
     "name": "stdout",
     "output_type": "stream",
     "text": [
      "Number of correct predictions: 1225\n",
      "Number of incorrect predictions: 14\n",
      "Accuracy: 98.87%\n"
     ]
    }
   ],
   "source": [
    "y_test_flat = np.array(y_test).flatten()\n",
    "yhat_flat = np.array(yhat).flatten()\n",
    "\n",
    "# Compare true labels and predicted labels\n",
    "correct_predictions = np.sum(y_test_flat == yhat_flat)\n",
    "incorrect_predictions = np.sum(y_test_flat != yhat_flat)\n",
    "\n",
    "# Print results\n",
    "print(f'Number of correct predictions: {correct_predictions}')\n",
    "print(f'Number of incorrect predictions: {incorrect_predictions}')\n",
    "\n",
    "# Optional: Calculate accuracy as well\n",
    "accuracy = correct_predictions / len(y_test_flat)\n",
    "print(f'Accuracy: {accuracy * 100:.2f}%')"
   ]
  },
  {
   "cell_type": "code",
   "execution_count": null,
   "id": "bee727eb",
   "metadata": {
    "papermill": {
     "duration": 0.011228,
     "end_time": "2024-09-24T16:03:09.540185",
     "exception": false,
     "start_time": "2024-09-24T16:03:09.528957",
     "status": "completed"
    },
    "tags": []
   },
   "outputs": [],
   "source": []
  }
 ],
 "metadata": {
  "kaggle": {
   "accelerator": "none",
   "dataSources": [
    {
     "datasetId": 5719862,
     "sourceId": 9425404,
     "sourceType": "datasetVersion"
    }
   ],
   "dockerImageVersionId": 30775,
   "isGpuEnabled": false,
   "isInternetEnabled": false,
   "language": "python",
   "sourceType": "notebook"
  },
  "kernelspec": {
   "display_name": "Python 3",
   "language": "python",
   "name": "python3"
  },
  "language_info": {
   "codemirror_mode": {
    "name": "ipython",
    "version": 3
   },
   "file_extension": ".py",
   "mimetype": "text/x-python",
   "name": "python",
   "nbconvert_exporter": "python",
   "pygments_lexer": "ipython3",
   "version": "3.10.14"
  },
  "papermill": {
   "default_parameters": {},
   "duration": 8.211321,
   "end_time": "2024-09-24T16:03:10.274306",
   "environment_variables": {},
   "exception": null,
   "input_path": "__notebook__.ipynb",
   "output_path": "__notebook__.ipynb",
   "parameters": {},
   "start_time": "2024-09-24T16:03:02.062985",
   "version": "2.6.0"
  }
 },
 "nbformat": 4,
 "nbformat_minor": 5
}
